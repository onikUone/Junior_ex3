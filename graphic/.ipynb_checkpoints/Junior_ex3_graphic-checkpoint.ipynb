{
 "cells": [
  {
   "cell_type": "code",
   "execution_count": 2,
   "metadata": {
    "scrolled": false
   },
   "outputs": [
    {
     "ename": "NameError",
     "evalue": "name 'i' is not defined",
     "output_type": "error",
     "traceback": [
      "\u001b[0;31m---------------------------------------------------------------------------\u001b[0m",
      "\u001b[0;31mNameError\u001b[0m                                 Traceback (most recent call last)",
      "\u001b[0;32m<ipython-input-2-48eef8c1b24a>\u001b[0m in \u001b[0;36m<module>\u001b[0;34m()\u001b[0m\n\u001b[1;32m     17\u001b[0m \u001b[0mflg\u001b[0m\u001b[0;34m=\u001b[0m\u001b[0;36m0\u001b[0m\u001b[0;34m\u001b[0m\u001b[0m\n\u001b[1;32m     18\u001b[0m \u001b[0;32mfor\u001b[0m \u001b[0mline\u001b[0m \u001b[0;32min\u001b[0m \u001b[0mopen\u001b[0m\u001b[0;34m(\u001b[0m\u001b[0mdataset_path\u001b[0m\u001b[0;34m,\u001b[0m \u001b[0;34m'r'\u001b[0m\u001b[0;34m)\u001b[0m\u001b[0;34m:\u001b[0m\u001b[0;34m\u001b[0m\u001b[0m\n\u001b[0;32m---> 19\u001b[0;31m     \u001b[0;32mif\u001b[0m \u001b[0mi\u001b[0m\u001b[0;34m==\u001b[0m\u001b[0;36m0\u001b[0m\u001b[0;34m:\u001b[0m\u001b[0;34m\u001b[0m\u001b[0m\n\u001b[0m\u001b[1;32m     20\u001b[0m             \u001b[0mflg\u001b[0m \u001b[0;34m=\u001b[0m \u001b[0;36m1\u001b[0m\u001b[0;34m\u001b[0m\u001b[0m\n\u001b[1;32m     21\u001b[0m             \u001b[0;32mbreak\u001b[0m\u001b[0;34m\u001b[0m\u001b[0m\n",
      "\u001b[0;31mNameError\u001b[0m: name 'i' is not defined"
     ]
    }
   ],
   "source": [
    "# -*- coding: utf-8 -*-\n",
    "import matplotlib.pyplot as plt\n",
    "import matplotlib.ticker as ticker\n",
    "import numpy as np\n",
    "\n",
    "# データセット初期化\n",
    "dataX1_ofDataset = np.asarray([], dtype=np.float64)\n",
    "dataX2_ofDataset = np.asarray([], dtype=np.float64)\n",
    "class_ofDataset = np.asarray([], dtype=np.float64)\n",
    "\n",
    "# ---------------ファイル読み込み開始---------------\n",
    "    #Mac(ノートPC)環境用パス\n",
    "dataset_path = '/Users/Uone/IDrive/OPU/研究フォルダ/Junior_ex3/eclipse_workspace/Junior_ex3/src/kadai3_pattern1.txt'\n",
    "    #研究室 Windows環境用パス\n",
    "# dataset_path = 'C:\\\\Users\\\\Yuichi Omozaki\\\\IDrive\\\\Junior_ex2\\\\eclipse_workspace\\\\Junior_ex2\\\\src\\\\kadai2.dat'\n",
    "\n",
    "flg=0\n",
    "for line in open(dataset_path, 'r'):\n",
    "    if flg==0:\n",
    "            flg = 1\n",
    "            break\n",
    "    dataX1_ofDataset = np.append( dataX1_ofDataset, line[:-1].split(', ')[0] )\n",
    "    dataX2_ofDataset = np.append( dataX2_ofDataset, line[:-1].split(', ')[1] )\n",
    "    class_ofDataset = np.append( class_ofDataset, line[:-1].split(', ')[2] )\n",
    "\n",
    "dataX1_ofDataset = dataX1_ofDataset.astype(np.float64) #型変換\n",
    "dataX2_ofDataset = dataX2_ofDataset.astype(np.float64) #\n",
    "class_ofDataset = class_ofDataset.astype(np.float64) #\n",
    "# ---------------ファイル読み込み完了---------------\n",
    "\n",
    "\n",
    "# データセット描画\n",
    "fig_dataset = plt.figure(figsize=(10,5))\n",
    "axes_dataset = fig_dataset.add_subplot(121)\n",
    "axes_dataset.set_title(\"inputData.dat\")\n",
    "axes_dataset.scatter(dataX1_ofDataset, dataX2_ofDataset, label=\"inputData\")\n",
    "axes_dataset.legend()\n",
    "axes_dataset.set_xlabel(\"x1\")\n",
    "axes_dataset.set_ylabel(\"x2\")\n",
    "axes_dataset.set_xlim([0.0, 1.0])\n",
    "axes_dataset.set_ylim([0.0, 1.0])\n",
    "axes_dataset.tick_params(axis='both', direction='in', bottom=True, top=True, left=True, right=True)\n",
    "axes_dataset.tick_params(axis='both', which='major', length=6)\n",
    "\n",
    "# データセット初期化\n",
    "dataX1 = np.asarray([], dtype=np.float64)\n",
    "dataX2 = np.asarray([], dtype=np.float64)\n",
    "# ---------------ファイル読み込み開始---------------\n",
    "    #Mac(ノートPC)環境用パス\n",
    "border_path = '/Users/Uone/IDrive/OPU/研究フォルダ/Junior_ex3/eclipse_workspace/Junior_ex3/src/border.dat'\n",
    "    #研究室 Windows環境用パス\n",
    "# border_path = 'C:\\\\Users\\\\Yuichi Omozaki\\\\IDrive\\\\Junior_ex2\\\\eclipse_workspace\\\\Junior_ex2\\\\src\\\\border.dat'\n",
    "for line in open(border_path, 'r'):\n",
    "    dataX1 = np.append( dataX1, line[:-2].split('\\t')[0] )\n",
    "    dataX2 = np.append( dataX2, line[:-2].split('\\t')[1] )\n",
    "\n",
    "dataX1 = dataX1.astype(np.float64) #型変換\n",
    "dataX2 = dataX2.astype(np.float64) #\n",
    "# ---------------ファイル読み込み完了---------------\n",
    "\n",
    "# データセット描画\n",
    "axes_trained = fig_dataset.add_subplot(122)\n",
    "axes_trained.set_title(\"border.dat\")\n",
    "axes_trained.scatter(dataX1_ofDataset, dataX2_ofDataset, label=\"inputData\")\n",
    "axes_trained.scatter(dataX1, dataX2, label=\"border_of_Class\")\n",
    "axes_trained.legend()\n",
    "axes_trained.set_xlabel(\"x1\")\n",
    "axes_trained.set_ylabel(\"x2\")\n",
    "axes_trained.set_xlim([0.0, 1.0])\n",
    "axes_trained.set_ylim([0.0, 1.0])\n",
    "axes_trained.tick_params(axis='both', direction='in', bottom=True, top=True, left=True, right=True)\n",
    "axes_trained.tick_params(axis='both', which='major', length=6)\n",
    "\n",
    "\n",
    "# fig_dataset.show()"
   ]
  },
  {
   "cell_type": "code",
   "execution_count": null,
   "metadata": {},
   "outputs": [],
   "source": []
  },
  {
   "cell_type": "code",
   "execution_count": null,
   "metadata": {},
   "outputs": [],
   "source": []
  }
 ],
 "metadata": {
  "kernelspec": {
   "display_name": "Python 3",
   "language": "python",
   "name": "python3"
  },
  "language_info": {
   "codemirror_mode": {
    "name": "ipython",
    "version": 3
   },
   "file_extension": ".py",
   "mimetype": "text/x-python",
   "name": "python",
   "nbconvert_exporter": "python",
   "pygments_lexer": "ipython3",
   "version": "3.6.5"
  }
 },
 "nbformat": 4,
 "nbformat_minor": 2
}
